{
 "cells": [
  {
   "cell_type": "code",
   "execution_count": 9,
   "metadata": {},
   "outputs": [],
   "source": [
    "import numpy as np\n",
    "import networkx as nx\n",
    "\n",
    "def cal_all_pairs_minimax_path_matrix_by_algo_4(distance_matrix):\n",
    "    N = len(distance_matrix)\n",
    "    all_pairs_minimax_matrix = np.zeros((N, N))\n",
    "\n",
    "    # Construct Minimum Spanning Tree (MST) from the graph\n",
    "    MST = construct_MST_from_graph(distance_matrix)\n",
    "    MST_edge_list = list(MST.edges(data='weight'))\n",
    "\n",
    "    edge_node_list = [(edge[0], edge[1]) for edge in MST_edge_list]\n",
    "    edge_weight_list = [edge[2] for edge in MST_edge_list]\n",
    "\n",
    "    # Sort edges in descending order of weight\n",
    "    edge_large_to_small_arg = np.argsort(edge_weight_list)[::-1]\n",
    "    edge_weight_large_to_small = np.array(edge_weight_list)[edge_large_to_small_arg]\n",
    "    edge_nodes_large_to_small = [edge_node_list[i] for i in edge_large_to_small_arg]\n",
    "\n",
    "    # Iteratively remove edges and calculate tree nodes\n",
    "    for i, edge_nodes in enumerate(edge_nodes_large_to_small):\n",
    "        edge_weight = edge_weight_large_to_small[i]\n",
    "        MST.remove_edge(*edge_nodes)\n",
    "\n",
    "        tree1_nodes = list(nx.dfs_preorder_nodes(MST, source=edge_nodes[0]))\n",
    "        tree2_nodes = list(nx.dfs_preorder_nodes(MST, source=edge_nodes[1]))\n",
    "\n",
    "        for p1 in tree1_nodes:\n",
    "            for p2 in tree2_nodes:\n",
    "                all_pairs_minimax_matrix[p1, p2] = edge_weight\n",
    "                all_pairs_minimax_matrix[p2, p1] = edge_weight\n",
    "\n",
    "    # print(all_pairs_minimax_matrix)\n",
    "    \n",
    "    return all_pairs_minimax_matrix\n",
    "\n",
    "def construct_MST_from_graph(distance_matrix):\n",
    "    G = nx.Graph()\n",
    "    N = len(distance_matrix)\n",
    "    for i in range(N):\n",
    "        for j in range(i + 1, N):\n",
    "            G.add_edge(i, j, weight=distance_matrix[i][j])\n",
    "    MST = nx.minimum_spanning_tree(G)\n",
    "    return MST\n"
   ]
  },
  {
   "cell_type": "code",
   "execution_count": 10,
   "metadata": {},
   "outputs": [],
   "source": [
    "def variant_of_Floyd_Warshall(adj_matrix):\n",
    "    p = adj_matrix.copy()\n",
    "    N = len(adj_matrix)\n",
    "\n",
    "    for i in range(N):\n",
    "        for j in range(N):\n",
    "            if i != j:\n",
    "                for k in range(N):\n",
    "                    if i != k and j != k:\n",
    "                        p[j, k] = min(p[j, k], max(p[j, i], p[i, k]))\n",
    "    return p\n"
   ]
  },
  {
   "cell_type": "code",
   "execution_count": 11,
   "metadata": {},
   "outputs": [],
   "source": [
    "import numpy as np\n",
    "import time\n",
    "\n",
    "# Utility function to create random adjacency matrices for undirected weighted graphs\n",
    "def generate_random_graph(num_nodes, max_weight=100):\n",
    "    adj_matrix = np.random.randint(1, max_weight + 1, size=(num_nodes, num_nodes))\n",
    "    adj_matrix = np.triu(adj_matrix, 1)  # Keep only upper triangle\n",
    "    adj_matrix += adj_matrix.T  # Make it symmetric for undirected graphs\n",
    "    \n",
    "    return adj_matrix\n",
    "\n",
    "# Check correctness by comparing the two implementations\n",
    "def check_correctness(adj_matrix):\n",
    "    algo4_result = cal_all_pairs_minimax_path_matrix_by_algo_4(adj_matrix)\n",
    "    fw_result = variant_of_Floyd_Warshall(adj_matrix)\n",
    "\n",
    "    return np.allclose(algo4_result, fw_result)\n",
    "\n",
    "# Measure execution time for a single test\n",
    "def measure_execution_time(adj_matrix):\n",
    "    start_algo4 = time.time()\n",
    "    cal_all_pairs_minimax_path_matrix_by_algo_4(adj_matrix)\n",
    "    end_algo4 = time.time()\n",
    "\n",
    "    start_fw = time.time()\n",
    "    variant_of_Floyd_Warshall(adj_matrix)\n",
    "    end_fw = time.time()\n",
    "\n",
    "    return end_algo4 - start_algo4, end_fw - start_fw"
   ]
  },
  {
   "cell_type": "code",
   "execution_count": 12,
   "metadata": {},
   "outputs": [
    {
     "name": "stdout",
     "output_type": "stream",
     "text": [
      "Test cases successfully saved to 'test_cases.py'\n"
     ]
    }
   ],
   "source": [
    "import numpy as np\n",
    "import time\n",
    "\n",
    "# Generate random graphs and calculate results\n",
    "def generate_and_calculate_test_cases(test_sizes, num_tests=3, max_weight=100):\n",
    "    test_cases = []\n",
    "    for size in test_sizes:\n",
    "        for test_num in range(num_tests):\n",
    "            # Generate random graph\n",
    "            adj_matrix = generate_random_graph(size, max_weight)\n",
    "\n",
    "            # Calculate minimax path matrices using both algorithms\n",
    "            # algo4_result = cal_all_pairs_minimax_path_matrix_by_algo_4(adj_matrix)\n",
    "            # fw_result = variant_of_Floyd_Warshall(adj_matrix)\n",
    "\n",
    "            # Verify correctness\n",
    "            # correct = np.allclose(algo4_result, fw_result)\n",
    "\n",
    "            # Save the test case details\n",
    "            test_cases.append({\n",
    "                \"size\": size,\n",
    "                \"test_num\": test_num + 1,\n",
    "                \"adj_matrix\": adj_matrix.tolist(),\n",
    "                # \"algo4_result\": algo4_result.tolist(),\n",
    "                # \"fw_result\": fw_result.tolist(),\n",
    "                # \"correct\": correct\n",
    "            })\n",
    "    return test_cases\n",
    "\n",
    "# Save test cases to a .py file\n",
    "def save_test_cases_to_file(test_cases, file_name=\"test_cases.py\"):\n",
    "    with open(file_name, \"w\") as f:\n",
    "        f.write(\"# Pre-calculated Test Cases for Minimax Path Problem\\n\\n\")\n",
    "        f.write(\"test_cases = [\\n\")\n",
    "        for case in test_cases:\n",
    "            f.write(f\"    {case},\\n\")\n",
    "        f.write(\"]\\n\")\n",
    "\n",
    "# Generate, calculate, and save test cases\n",
    "test_sizes = [5, 10, 20, 50, 100, 200, 500]\n",
    "test_cases = generate_and_calculate_test_cases(test_sizes)\n",
    "save_test_cases_to_file(test_cases)\n",
    "\n",
    "print(f\"Test cases successfully saved to 'test_cases.py'\")\n"
   ]
  },
  {
   "cell_type": "code",
   "execution_count": 16,
   "metadata": {},
   "outputs": [
    {
     "name": "stdout",
     "output_type": "stream",
     "text": [
      "[[ 0  8 64 ... 63 98 18]\n",
      " [ 8  0 46 ... 76  9 72]\n",
      " [64 46  0 ... 30 11 55]\n",
      " ...\n",
      " [63 76 30 ...  0 24  1]\n",
      " [98  9 11 ... 24  0 13]\n",
      " [18 72 55 ...  1 13  0]]\n"
     ]
    }
   ],
   "source": [
    "# Function to get test case graph\n",
    "def get_test_case_graph(size):\n",
    "    from test_cases import test_cases\n",
    "    \n",
    "    for test_case in test_cases:\n",
    "        if test_case['size'] == size:\n",
    "            return np.array(test_case['adj_matrix'])\n",
    "    raise ValueError(f\"No test case found for size {size}\")\n",
    "\n",
    "# Example usage\n",
    "size = 50\n",
    "adj_matrix = get_test_case_graph(size)\n",
    "print(adj_matrix)"
   ]
  }
 ],
 "metadata": {
  "kernelspec": {
   "display_name": "fun",
   "language": "python",
   "name": "python3"
  },
  "language_info": {
   "codemirror_mode": {
    "name": "ipython",
    "version": 3
   },
   "file_extension": ".py",
   "mimetype": "text/x-python",
   "name": "python",
   "nbconvert_exporter": "python",
   "pygments_lexer": "ipython3",
   "version": "3.12.3"
  }
 },
 "nbformat": 4,
 "nbformat_minor": 2
}
